{
 "cells": [
  {
   "cell_type": "code",
   "execution_count": 13,
   "metadata": {},
   "outputs": [],
   "source": [
    "import torch\n",
    "from propius.parameter_server.module.reduce import base_reduce"
   ]
  },
  {
   "cell_type": "markdown",
   "metadata": {},
   "source": []
  },
  {
   "cell_type": "code",
   "execution_count": 14,
   "metadata": {},
   "outputs": [
    {
     "name": "stdout",
     "output_type": "stream",
     "text": [
      "[tensor([[1., 1.],\n",
      "        [1., 1.]]), tensor([[1., 1., 1.],\n",
      "        [1., 1., 1.]])]\n",
      "[tensor([[1., 1.],\n",
      "        [1., 1.]]), tensor([[0., 0., 0.],\n",
      "        [0., 0., 0.]])]\n",
      "[tensor([[2., 2.],\n",
      "        [2., 2.]]), tensor([[1., 1., 1.],\n",
      "        [1., 1., 1.]])]\n"
     ]
    }
   ],
   "source": [
    "a = [torch.ones(2, 2), torch.ones(2, 3)]\n",
    "print(a)\n",
    "\n",
    "b = [torch.ones(2, 2), torch.zeros(2, 3)]\n",
    "print(b)\n",
    "base_reduce(a, b)\n",
    "\n",
    "print(a)"
   ]
  }
 ],
 "metadata": {
  "kernelspec": {
   "display_name": "propius",
   "language": "python",
   "name": "python3"
  },
  "language_info": {
   "codemirror_mode": {
    "name": "ipython",
    "version": 3
   },
   "file_extension": ".py",
   "mimetype": "text/x-python",
   "name": "python",
   "nbconvert_exporter": "python",
   "pygments_lexer": "ipython3",
   "version": "3.9.17"
  }
 },
 "nbformat": 4,
 "nbformat_minor": 2
}
